{
 "cells": [
  {
   "cell_type": "markdown",
   "metadata": {},
   "source": [
    "# Formulate : a python library for formulation"
   ]
  },
  {
   "cell_type": "code",
   "execution_count": 1,
   "metadata": {},
   "outputs": [
    {
     "name": "stdout",
     "output_type": "stream",
     "text": [
      "Requirement already satisfied: formulate==1.1 from file:///app/notebooks/librairieRDM/publicPIP/formulate/dist/formulate-1.1-py3-none-any.whl in /opt/conda/lib/python3.8/site-packages (1.1)\r\n"
     ]
    }
   ],
   "source": [
    "import sys\n",
    "!pip install https://github.com/l0d0v1c/formulate/blob/main/dist/formulate-1.1-py3-none-any.whl"
   ]
  },
  {
   "cell_type": "code",
   "execution_count": 6,
   "metadata": {},
   "outputs": [],
   "source": [
    "from formulate.components import components"
   ]
  },
  {
   "cell_type": "markdown",
   "metadata": {},
   "source": [
    "## Simple mixture"
   ]
  },
  {
   "cell_type": "code",
   "execution_count": 10,
   "metadata": {},
   "outputs": [],
   "source": [
    "c=components(physical={\"Hf\":True,\"rho\":None})\n"
   ]
  },
  {
   "cell_type": "code",
   "execution_count": 11,
   "metadata": {},
   "outputs": [
    {
     "data": {
      "text/plain": [
       "{'Water': {'H': 111.017, 'O': 55.508, 'Hf': -15865.97, 'rho': 1.0, 'N': 0},\n",
       " 'Nitrogen': {'N': 71.394, 'Hf': 0.0, 'rho': 0.01, 'O': 0, 'H': 0},\n",
       " 'Oxygen': {'O': 62.502, 'Hf': 0.0, 'rho': 0.01, 'H': 0, 'N': 0}}"
      ]
     },
     "execution_count": 11,
     "metadata": {},
     "output_type": "execute_result"
    }
   ],
   "source": [
    "c.add(\"Water\",\"H2O\",{'Hf':-285.83,\"rho\":1.0})\n",
    "c.add(\"Nitrogen\",\"N2\",{'Hf':0,\"rho\":0.01})\n",
    "c.add(\"Oxygen\",\"O2\",{'Hf':0,\"rho\":0.01})\n",
    "c.mixture"
   ]
  },
  {
   "cell_type": "code",
   "execution_count": 12,
   "metadata": {},
   "outputs": [],
   "source": [
    "c.setrates({\"Water\":0.5,\"Nitrogen\":0.25,\"Oxygen\":0.25})"
   ]
  },
  {
   "cell_type": "code",
   "execution_count": 13,
   "metadata": {},
   "outputs": [
    {
     "data": {
      "text/html": [
       "<div>\n",
       "<style scoped>\n",
       "    .dataframe tbody tr th:only-of-type {\n",
       "        vertical-align: middle;\n",
       "    }\n",
       "\n",
       "    .dataframe tbody tr th {\n",
       "        vertical-align: top;\n",
       "    }\n",
       "\n",
       "    .dataframe thead th {\n",
       "        text-align: right;\n",
       "    }\n",
       "</style>\n",
       "<table border=\"1\" class=\"dataframe\">\n",
       "  <thead>\n",
       "    <tr style=\"text-align: right;\">\n",
       "      <th></th>\n",
       "      <th>Component</th>\n",
       "      <th>Rate</th>\n",
       "      <th>O</th>\n",
       "      <th>H</th>\n",
       "      <th>N</th>\n",
       "      <th>Hf</th>\n",
       "      <th>rho</th>\n",
       "    </tr>\n",
       "  </thead>\n",
       "  <tbody>\n",
       "    <tr>\n",
       "      <th>0</th>\n",
       "      <td>Water</td>\n",
       "      <td>0.50</td>\n",
       "      <td>55.5080</td>\n",
       "      <td>111.0170</td>\n",
       "      <td>0.0000</td>\n",
       "      <td>-15865.970</td>\n",
       "      <td>1</td>\n",
       "    </tr>\n",
       "    <tr>\n",
       "      <th>1</th>\n",
       "      <td>Nitrogen</td>\n",
       "      <td>0.25</td>\n",
       "      <td>0.0000</td>\n",
       "      <td>0.0000</td>\n",
       "      <td>71.3940</td>\n",
       "      <td>0.000</td>\n",
       "      <td>0.01</td>\n",
       "    </tr>\n",
       "    <tr>\n",
       "      <th>2</th>\n",
       "      <td>Oxygen</td>\n",
       "      <td>0.25</td>\n",
       "      <td>62.5020</td>\n",
       "      <td>0.0000</td>\n",
       "      <td>0.0000</td>\n",
       "      <td>0.000</td>\n",
       "      <td>0.01</td>\n",
       "    </tr>\n",
       "    <tr>\n",
       "      <th>3</th>\n",
       "      <td>Formulation</td>\n",
       "      <td>1.00</td>\n",
       "      <td>43.3795</td>\n",
       "      <td>55.5085</td>\n",
       "      <td>17.8485</td>\n",
       "      <td>-7932.985</td>\n",
       "      <td>Non additive</td>\n",
       "    </tr>\n",
       "  </tbody>\n",
       "</table>\n",
       "</div>"
      ],
      "text/plain": [
       "     Component  Rate        O         H        N         Hf           rho\n",
       "0        Water  0.50  55.5080  111.0170   0.0000 -15865.970             1\n",
       "1     Nitrogen  0.25   0.0000    0.0000  71.3940      0.000          0.01\n",
       "2       Oxygen  0.25  62.5020    0.0000   0.0000      0.000          0.01\n",
       "3  Formulation  1.00  43.3795   55.5085  17.8485  -7932.985  Non additive"
      ]
     },
     "execution_count": 13,
     "metadata": {},
     "output_type": "execute_result"
    }
   ],
   "source": [
    "c.mixing()"
   ]
  },
  {
   "cell_type": "code",
   "execution_count": 14,
   "metadata": {},
   "outputs": [
    {
     "data": {
      "text/html": [
       "<div>\n",
       "<style scoped>\n",
       "    .dataframe tbody tr th:only-of-type {\n",
       "        vertical-align: middle;\n",
       "    }\n",
       "\n",
       "    .dataframe tbody tr th {\n",
       "        vertical-align: top;\n",
       "    }\n",
       "\n",
       "    .dataframe thead th {\n",
       "        text-align: right;\n",
       "    }\n",
       "</style>\n",
       "<table border=\"1\" class=\"dataframe\">\n",
       "  <thead>\n",
       "    <tr style=\"text-align: right;\">\n",
       "      <th></th>\n",
       "      <th>Component</th>\n",
       "      <th>Rate</th>\n",
       "      <th>O</th>\n",
       "      <th>H</th>\n",
       "      <th>N</th>\n",
       "      <th>Hf</th>\n",
       "      <th>rho</th>\n",
       "    </tr>\n",
       "  </thead>\n",
       "  <tbody>\n",
       "    <tr>\n",
       "      <th>0</th>\n",
       "      <td>Formulation</td>\n",
       "      <td>1.0</td>\n",
       "      <td>43.3795</td>\n",
       "      <td>55.5085</td>\n",
       "      <td>17.8485</td>\n",
       "      <td>-7932.985</td>\n",
       "      <td>Non additive</td>\n",
       "    </tr>\n",
       "  </tbody>\n",
       "</table>\n",
       "</div>"
      ],
      "text/plain": [
       "     Component  Rate        O        H        N        Hf           rho\n",
       "0  Formulation   1.0  43.3795  55.5085  17.8485 -7932.985  Non additive"
      ]
     },
     "execution_count": 14,
     "metadata": {},
     "output_type": "execute_result"
    }
   ],
   "source": [
    "c.formulationtab"
   ]
  },
  {
   "cell_type": "code",
   "execution_count": 15,
   "metadata": {},
   "outputs": [
    {
     "data": {
      "text/plain": [
       "{'O': 43.3795, 'H': 55.5085, 'N': 17.8485, 'Hf': -7932.985, 'rho': 'NA'}"
      ]
     },
     "execution_count": 15,
     "metadata": {},
     "output_type": "execute_result"
    }
   ],
   "source": [
    " c.formulation\n"
   ]
  },
  {
   "cell_type": "markdown",
   "metadata": {},
   "source": [
    "## Oxygen balance"
   ]
  },
  {
   "cell_type": "code",
   "execution_count": 16,
   "metadata": {},
   "outputs": [
    {
     "data": {
      "text/html": [
       "<div>\n",
       "<style scoped>\n",
       "    .dataframe tbody tr th:only-of-type {\n",
       "        vertical-align: middle;\n",
       "    }\n",
       "\n",
       "    .dataframe tbody tr th {\n",
       "        vertical-align: top;\n",
       "    }\n",
       "\n",
       "    .dataframe thead th {\n",
       "        text-align: right;\n",
       "    }\n",
       "</style>\n",
       "<table border=\"1\" class=\"dataframe\">\n",
       "  <thead>\n",
       "    <tr style=\"text-align: right;\">\n",
       "      <th></th>\n",
       "      <th>Component</th>\n",
       "      <th>Rate</th>\n",
       "      <th>O</th>\n",
       "      <th>H</th>\n",
       "      <th>C</th>\n",
       "      <th>N</th>\n",
       "      <th>Hf</th>\n",
       "    </tr>\n",
       "  </thead>\n",
       "  <tbody>\n",
       "    <tr>\n",
       "      <th>0</th>\n",
       "      <td>TNT</td>\n",
       "      <td>0.75</td>\n",
       "      <td>26.41600</td>\n",
       "      <td>22.01400</td>\n",
       "      <td>30.81900</td>\n",
       "      <td>13.20800</td>\n",
       "      <td>-294.983</td>\n",
       "    </tr>\n",
       "    <tr>\n",
       "      <th>1</th>\n",
       "      <td>RDX</td>\n",
       "      <td>0.25</td>\n",
       "      <td>27.01300</td>\n",
       "      <td>27.01300</td>\n",
       "      <td>13.50600</td>\n",
       "      <td>27.01300</td>\n",
       "      <td>355.669</td>\n",
       "    </tr>\n",
       "    <tr>\n",
       "      <th>2</th>\n",
       "      <td>Formulation</td>\n",
       "      <td>1.00</td>\n",
       "      <td>26.56525</td>\n",
       "      <td>23.26375</td>\n",
       "      <td>26.49075</td>\n",
       "      <td>16.65925</td>\n",
       "      <td>-132.320</td>\n",
       "    </tr>\n",
       "  </tbody>\n",
       "</table>\n",
       "</div>"
      ],
      "text/plain": [
       "     Component  Rate         O         H         C         N       Hf\n",
       "0          TNT  0.75  26.41600  22.01400  30.81900  13.20800 -294.983\n",
       "1          RDX  0.25  27.01300  27.01300  13.50600  27.01300  355.669\n",
       "2  Formulation  1.00  26.56525  23.26375  26.49075  16.65925 -132.320"
      ]
     },
     "execution_count": 16,
     "metadata": {},
     "output_type": "execute_result"
    }
   ],
   "source": [
    "HT=components(physical={'Hf':True})\n",
    "HT.add(\"TNT\",\"C7H5N3O6\",{\"Hf\":-67})\n",
    "HT.add(\"RDX\",\"C3H6N6O6\",{\"Hf\":79})\n",
    "HT.setrates({'TNT':0.75,'RDX':0.25})\n",
    "HT.mixing()\n"
   ]
  },
  {
   "cell_type": "code",
   "execution_count": 17,
   "metadata": {},
   "outputs": [
    {
     "data": {
      "text/plain": [
       "-60.877"
      ]
     },
     "execution_count": 17,
     "metadata": {},
     "output_type": "execute_result"
    }
   ],
   "source": [
    "HT.oxygenbalance()"
   ]
  },
  {
   "cell_type": "markdown",
   "metadata": {},
   "source": [
    "## Eutectic point calculation"
   ]
  },
  {
   "cell_type": "code",
   "execution_count": 18,
   "metadata": {},
   "outputs": [
    {
     "data": {
      "text/html": [
       "<div>\n",
       "<style scoped>\n",
       "    .dataframe tbody tr th:only-of-type {\n",
       "        vertical-align: middle;\n",
       "    }\n",
       "\n",
       "    .dataframe tbody tr th {\n",
       "        vertical-align: top;\n",
       "    }\n",
       "\n",
       "    .dataframe thead th {\n",
       "        text-align: right;\n",
       "    }\n",
       "</style>\n",
       "<table border=\"1\" class=\"dataframe\">\n",
       "  <thead>\n",
       "    <tr style=\"text-align: right;\">\n",
       "      <th></th>\n",
       "      <th>Component</th>\n",
       "      <th>Rate</th>\n",
       "      <th>Hfus</th>\n",
       "      <th>Tfus</th>\n",
       "    </tr>\n",
       "  </thead>\n",
       "  <tbody>\n",
       "    <tr>\n",
       "      <th>0</th>\n",
       "      <td>KF</td>\n",
       "      <td>0.244</td>\n",
       "      <td>28500</td>\n",
       "      <td>1129</td>\n",
       "    </tr>\n",
       "    <tr>\n",
       "      <th>1</th>\n",
       "      <td>LiF</td>\n",
       "      <td>0.616</td>\n",
       "      <td>10000</td>\n",
       "      <td>1118</td>\n",
       "    </tr>\n",
       "    <tr>\n",
       "      <th>2</th>\n",
       "      <td>NaF</td>\n",
       "      <td>0.140</td>\n",
       "      <td>32600</td>\n",
       "      <td>1258</td>\n",
       "    </tr>\n",
       "    <tr>\n",
       "      <th>3</th>\n",
       "      <td>Formulation</td>\n",
       "      <td>1.000</td>\n",
       "      <td>Non additive</td>\n",
       "      <td>771</td>\n",
       "    </tr>\n",
       "  </tbody>\n",
       "</table>\n",
       "</div>"
      ],
      "text/plain": [
       "     Component   Rate          Hfus  Tfus\n",
       "0           KF  0.244         28500  1129\n",
       "1          LiF  0.616         10000  1118\n",
       "2          NaF  0.140         32600  1258\n",
       "3  Formulation  1.000  Non additive   771"
      ]
     },
     "execution_count": 18,
     "metadata": {},
     "output_type": "execute_result"
    }
   ],
   "source": [
    "eutec=components(physical={\"Hfus\":None,\"Tfus\":None})\n",
    "eutec.add(\"KF\",\"\",{\"Hfus\":28500,\"Tfus\":856+273})\n",
    "eutec.add(\"LiF\",\"\",{\"Hfus\":10000,\"Tfus\":845+273})\n",
    "eutec.add(\"NaF\",\"\",{\"Hfus\":32600,\"Tfus\":985+273})\n",
    "eutec.setrates({\"KF\":1,\"LiF\":1,\"NaF\":1})\n",
    "eutec.mixing()\n",
    "T=eutec.eutectic()\n",
    "eutec.formulationlist"
   ]
  },
  {
   "cell_type": "code",
   "execution_count": null,
   "metadata": {},
   "outputs": [],
   "source": []
  }
 ],
 "metadata": {
  "kernelspec": {
   "display_name": "Python 3",
   "language": "python",
   "name": "python3"
  },
  "language_info": {
   "codemirror_mode": {
    "name": "ipython",
    "version": 3
   },
   "file_extension": ".py",
   "mimetype": "text/x-python",
   "name": "python",
   "nbconvert_exporter": "python",
   "pygments_lexer": "ipython3",
   "version": "3.8.3"
  }
 },
 "nbformat": 4,
 "nbformat_minor": 4
}
